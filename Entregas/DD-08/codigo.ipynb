{
 "cells": [
  {
   "cell_type": "code",
   "execution_count": null,
   "metadata": {},
   "outputs": [],
   "source": [
    "import pandas as pd\n",
    "import uuid\n",
    "import numpy as np\n",
    "import matplotlib.pyplot as plt\n",
    "import seaborn as sns\n",
    "from sklearn.cluster import KMeans\n",
    "from sklearn.preprocessing import StandardScaler\n",
    "import dash\n",
    "from dash import dcc, html\n",
    "from dash.dependencies import Input, Output\n",
    "import folium\n",
    "from folium.plugins import HeatMap\n",
    "\n",
    "\n",
    "caminho_arquivo = r'C:\\Users\\User\\Desktop\\Ada Hackaton\\adahack-2024-dados\\base_dados\\base_de_dados.csv'\n",
    "df = pd.read_csv(caminho_arquivo, encoding='utf-8')\n"
   ]
  },
  {
   "cell_type": "markdown",
   "metadata": {},
   "source": [
    "### Análise da base: correção de caracteres"
   ]
  },
  {
   "cell_type": "code",
   "execution_count": null,
   "metadata": {},
   "outputs": [],
   "source": [
    "#Foi verificado que a grafia das letras está errada tanto nas células quanto no nome das colunas. Vamos ajustar: \n",
    "# Dicionário de substituições\n",
    "substituicoes = {\n",
    "    'Ã©': 'é', 'Ã¢': 'â', 'Ãº': 'ú', 'Ã­': 'í', 'Ã§': 'ç',\n",
    "    'Ã¡': 'á', 'Ã³': 'ó', 'Ãª': 'ê', 'Ã®': 'î', 'Ã´': 'ô',\n",
    "    'Ã»': 'û', 'Ã£': 'ã', 'Ãµ': 'õ', 'Ã ': 'à', 'Ã¨': 'è',\n",
    "    'Ã¬': 'ì', 'Ã¹': 'ù', 'Ã¤': 'ä', 'Ã«': 'ë', 'Ã¯': 'ï',\n",
    "    'Ã¶': 'ö', 'Ã¼': 'ü'\n",
    "}\n",
    "\n",
    "# Substituir os caracteres nos nomes das colunas\n",
    "df.columns = [coluna for coluna in df.columns]\n",
    "for original, correcao in substituicoes.items():\n",
    "    df.columns = [coluna.replace(original, correcao) for coluna in df.columns]\n",
    "\n",
    "# Substituir os caracteres na base de dados\n",
    "df.replace(substituicoes, regex=True, inplace=True)"
   ]
  },
  {
   "cell_type": "code",
   "execution_count": null,
   "metadata": {},
   "outputs": [],
   "source": [
    "display(df)"
   ]
  },
  {
   "cell_type": "markdown",
   "metadata": {},
   "source": [
    "### Ajustes pontuais: estados"
   ]
  },
  {
   "cell_type": "code",
   "execution_count": null,
   "metadata": {},
   "outputs": [],
   "source": [
    "# Dicionário de mapeamento de estados\n",
    "mapeamento_estados = {\n",
    "    'Acre': 'AC', 'Alagoas': 'AL', 'Amapá': 'AP', 'Amazonas': 'AM', 'Bahia': 'BA',\n",
    "    'Ceará': 'CE', 'Distrito Federal': 'DF', 'Espírito Santo': 'ES', 'Goiás': 'GO',\n",
    "    'Maranhão': 'MA', 'Mato Grosso': 'MT', 'Mato Grosso do Sul': 'MS', 'Minas Gerais': 'MG',\n",
    "    'Pará': 'PA', 'Paraíba': 'PB', 'Paraná': 'PR', 'Pernambuco': 'PE', 'Piauí': 'PI',\n",
    "    'Rio de Janeiro': 'RJ', 'Rio Grande do Norte': 'RN', 'Rio Grande do Sul': 'RS',\n",
    "    'Rondônia': 'RO', 'Roraima': 'RR', 'Santa Catarina': 'SC', 'São Paulo': 'SP',\n",
    "    'Sergipe': 'SE', 'Tocantins': 'TO'\n",
    "}\n",
    "\n",
    "# Aplicando o mapeamento de estados\n",
    "df['Estado'] = df['Estado'].map(mapeamento_estados)\n",
    "\n",
    "# Mostra o DataFrame com as siglas dos estados\n",
    "display(df.head())"
   ]
  },
  {
   "cell_type": "markdown",
   "metadata": {},
   "source": [
    "### Ajustes pontuais: acentuação, espaços"
   ]
  },
  {
   "cell_type": "code",
   "execution_count": null,
   "metadata": {},
   "outputs": [],
   "source": [
    "#As colunas também estão com erros: Vamos manter o padrão de formatação: Minúsculo, espaços sinalizados com sublinhado, e ajustes gráficos das letras\n",
    "from unidecode import unidecode\n",
    "\n",
    "# Função para remover caracteres especiais de strings\n",
    "def remover_acentos(texto):\n",
    "    if isinstance(texto, str):\n",
    "        return unidecode(texto)\n",
    "    else:\n",
    "        return texto\n",
    "\n",
    "\n",
    "# Aplicar a função nas colunas\n",
    "df.columns = [remover_acentos(coluna.replace(' ', '_').lower()) for coluna in df.columns]\n",
    "\n",
    "# Aplicar a função em todo o DataFrame, apenas em dados do tipo string\n",
    "df = df.applymap(remover_acentos)"
   ]
  },
  {
   "cell_type": "code",
   "execution_count": null,
   "metadata": {},
   "outputs": [],
   "source": [
    "display(df)"
   ]
  },
  {
   "cell_type": "markdown",
   "metadata": {},
   "source": [
    "### Ajustes pontuais: colunas sem função e subtituição de ID sequencial por padrão hexadecimal"
   ]
  },
  {
   "cell_type": "code",
   "execution_count": null,
   "metadata": {},
   "outputs": [],
   "source": [
    "# Removendo a coluna \"id\", \"endereco\" e \"nome\"\n",
    "df.drop(columns=['id', 'id.1', 'nome', 'endereco'], inplace=True)  # Remove as colunas \"id\" e \"id.1\"\n",
    "\n",
    "# Função para gerar IDs únicos de 4 dígitos (letras e números)\n",
    "def gerar_id():\n",
    "    return str(uuid.uuid4().hex[:4]).upper()\n",
    "\n",
    "# Criando uma nova coluna \"ID\" com IDs únicos de 4 dígitos\n",
    "df['ID'] = [gerar_id() for _ in range(len(df))]\n",
    "\n",
    "# Reorganizando as colunas para ter a nova coluna \"ID\" como a primeira\n",
    "colunas = df.columns.tolist()\n",
    "colunas = ['ID'] + [coluna for coluna in colunas if coluna != 'ID']\n",
    "df = df[colunas]\n",
    "\n",
    "# Mostra o DataFrame com a nova coluna \"ID\"\n",
    "print(df.head())"
   ]
  },
  {
   "cell_type": "markdown",
   "metadata": {},
   "source": [
    "### Análise de dados: Entendimento dos dados relacionando com o mundo exterior"
   ]
  },
  {
   "cell_type": "markdown",
   "metadata": {},
   "source": [
    "#### Relacionar dados de idade com força de trabalho, com ênfase no ECA e CLT"
   ]
  },
  {
   "cell_type": "code",
   "execution_count": null,
   "metadata": {},
   "outputs": [],
   "source": [
    "# Convertendo a coluna 'Idade' para números numéricos\n",
    "df['idade'] = pd.to_numeric(df['idade'], errors='coerce')\n",
    "\n",
    "# Conta quantas vezes a idade é menor que 14 anos\n",
    "df[df[\"idade\"] < 14][\"idade\"].value_counts()\n",
    "\n",
    "#Seguindo a legislaçãos, os dados do Estatuto da Criança e do Adolescente (ECA) proíbe qualquer trabalho para menores de 14 anos, \n",
    "#exceto na condição de aprendiz. A partir dos 14 anos, os jovens podem trabalhar como aprendizes, seguindo as diretrizes e bases da \n",
    "#legislação de educação em vigor\n",
    "menores_trabalhando = df[(df['idade'] < 14)]\n",
    "\n",
    "# Mostra o DataFrame com as idades corrigidas\n",
    "display(menores_trabalhando)"
   ]
  },
  {
   "cell_type": "code",
   "execution_count": null,
   "metadata": {},
   "outputs": [],
   "source": [
    "#Veja, na base acima, temos um problema, pessoas menores de 14 anos. \n",
    "menores_trabalhando_clt_eca = df[(df['idade'] >= 14) & (df['idade'] <= 17) ]"
   ]
  },
  {
   "cell_type": "code",
   "execution_count": null,
   "metadata": {},
   "outputs": [],
   "source": [
    "menores_trabalhando_clt_eca = df[(df['idade'] >= 14) & (df['idade'] <= 17) & (df['senioridade'] == 'Estagiario')]\n",
    "menores_trabalhando_clt_eca"
   ]
  },
  {
   "cell_type": "markdown",
   "metadata": {},
   "source": [
    "#A base acima poderia ser somente aprendiz, salvo a condição de estagiário técnico"
   ]
  },
  {
   "cell_type": "code",
   "execution_count": null,
   "metadata": {},
   "outputs": [],
   "source": [
    "#Vamos tirar esses menores para evitar sanções. Destacando numa base a parte é interessante que a equipe de de RH analise os casos:\n",
    "\n",
    "#Já vimos quem são os menores, agora vamos condicionar os termos já agrupados. \n",
    "\n",
    "menores_irregulares = df[(df['idade'] >= 14) & (df['idade'] <= 17) & ~(df['senioridade'].isin(['Aprendiz', 'Estagiario']))]\n",
    "\n",
    "#Aqui vamos criar uma base exclusiva de análise\n",
    "df_menores_irregulares = menores_irregulares.copy()\n",
    "\n",
    "#Para limpar a base, vamos tirar os dados\n",
    "df = df.drop(menores_irregulares.index)\n",
    "\n",
    "df_menores_irregulares.to_csv('menores_trabalhando_irregularmente.csv', index=False)"
   ]
  },
  {
   "cell_type": "markdown",
   "metadata": {},
   "source": [
    "#### Análise de dados: Menores exercendo funções na empresa"
   ]
  },
  {
   "cell_type": "code",
   "execution_count": null,
   "metadata": {},
   "outputs": [],
   "source": [
    "# Convertendo a coluna 'tempo_de_casa' para números numéricos\n",
    "df['tempo_de_casa'] = pd.to_numeric(df['tempo_de_casa'], errors='coerce')\n",
    "\n",
    "# Corrigindo o tempo_de_casa para nulo se for maior que a idade\n",
    "df.loc[df['tempo_de_casa'] > df['idade'], 'tempo_de_casa'] = pd.NA\n",
    "\n",
    "# Convertendo tempos de casa para números inteiros\n",
    "df['tempo_de_casa'] = df['tempo_de_casa'].astype('Int64')\n",
    "\n",
    "# Contando quantas linhas têm o tempo_de_casa + 14 maior que a idade\n",
    "condicao = df['tempo_de_casa'] + 14 > df['idade']\n",
    "total_linhas = condicao.sum()\n",
    "\n",
    "print(f\"Total de linhas com tempo de casa + 14 maior que a Idade: {total_linhas}\")"
   ]
  },
  {
   "cell_type": "markdown",
   "metadata": {},
   "source": [
    "#### Ajustes pontuais: Transformando valores negativos em nulos"
   ]
  },
  {
   "cell_type": "code",
   "execution_count": null,
   "metadata": {},
   "outputs": [],
   "source": [
    "#Transformando valores negativos em nulos\n",
    "df.loc[df['tempo_de_casa'] < 0, 'tempo_de_casa'] = np.nan\n",
    "\n",
    "#Transformando valores tempo_de_casa + 14 maior que a idade em nulos\n",
    "df.loc[df['tempo_de_casa'] + 14 >  df['idade'], 'tempo_de_casa'] = np.nan"
   ]
  },
  {
   "cell_type": "markdown",
   "metadata": {},
   "source": [
    "#### Ajustes pontuais: Transformando valores vazios em informações"
   ]
  },
  {
   "cell_type": "code",
   "execution_count": null,
   "metadata": {},
   "outputs": [],
   "source": [
    "# Vamos substituir por \"Desconhecido - Ajustar\", pois é um fator relevante de cargo para promoção por requisitos\n",
    "df['formacao'].fillna('Não informado', inplace=True)"
   ]
  },
  {
   "cell_type": "code",
   "execution_count": null,
   "metadata": {},
   "outputs": [],
   "source": [
    "#### Ajustes pontuais: Transformando dados para visualização nos gráficos"
   ]
  },
  {
   "cell_type": "code",
   "execution_count": null,
   "metadata": {},
   "outputs": [],
   "source": [
    "# Mapeamento de gêneros\n",
    "mapeamento_genero = {\n",
    "    'Masc': 'Masculino',\n",
    "    'Fem': 'Feminino',\n",
    "    'Neutro': 'Neutro',\n",
    "    'Outros': 'Outros',\n",
    "    np.nan: 'Não informado'\n",
    "}\n",
    "\n",
    "# Aplicando o mapeamento na coluna 'genero' e substituindo NaN por 'Não informado'\n",
    "df['genero'] = df['genero'].map(mapeamento_genero)\n",
    "\n",
    "# Mostra o DataFrame com a coluna 'genero' ajustada\n",
    "display(df.head())"
   ]
  },
  {
   "cell_type": "code",
   "execution_count": null,
   "metadata": {},
   "outputs": [],
   "source": [
    "df.rename(columns={'raca':'etnia'}, inplace = True)"
   ]
  },
  {
   "cell_type": "code",
   "execution_count": null,
   "metadata": {},
   "outputs": [],
   "source": [
    "# Corrigindo a coluna 'etnia' para ter a primeira letra em maiúscula e valores nulos substituídos\n",
    "df['etnia'] = df['etnia'].fillna('Não informado').apply(lambda x: x.capitalize() if not pd.isnull(x) else x)\n",
    "\n",
    "# Mostra o DataFrame com a coluna 'etnia' corrigida\n",
    "display(df.head())"
   ]
  },
  {
   "cell_type": "markdown",
   "metadata": {},
   "source": [
    "#### Ajustes pontuais: Dados duplicados"
   ]
  },
  {
   "cell_type": "code",
   "execution_count": null,
   "metadata": {},
   "outputs": [],
   "source": [
    "linhas_duplicadas = df.duplicated()\n",
    "\n",
    "total_linhas_duplicadas = linhas_duplicadas.sum()\n",
    "\n",
    "if total_linhas_duplicadas > 0:\n",
    "    print(\"Existem\", total_linhas_duplicadas, \"linhas duplicadas no Dataset.\")\n",
    "else:\n",
    "    print(\"Não existem linhas duplicadas no Dataset.\")"
   ]
  },
  {
   "cell_type": "markdown",
   "metadata": {},
   "source": [
    "### Análise de dados: Criação da base limpa para desenvolvimento "
   ]
  },
  {
   "cell_type": "markdown",
   "metadata": {},
   "source": [
    "#### Análises de verificação: Leitura dos dados importantes"
   ]
  },
  {
   "cell_type": "code",
   "execution_count": null,
   "metadata": {},
   "outputs": [],
   "source": [
    "df_limpo = df.to_csv(\"base_de_dados_limpa.csv\")"
   ]
  },
  {
   "cell_type": "code",
   "execution_count": null,
   "metadata": {},
   "outputs": [],
   "source": [
    "caminho_arquivo_limpo = r'C:\\Users\\User\\Desktop\\Ada Hackaton\\adahack-2024-dados\\Entregas\\DD-08\\base_de_dados_limpa.csv'\n",
    "df_limpo = pd.read_csv(caminho_arquivo_limpo)"
   ]
  },
  {
   "cell_type": "code",
   "execution_count": null,
   "metadata": {},
   "outputs": [],
   "source": [
    "valores_distintos = df_limpo['genero'].unique()\n",
    "print(valores_distintos)"
   ]
  },
  {
   "cell_type": "code",
   "execution_count": null,
   "metadata": {},
   "outputs": [],
   "source": [
    "df_limpo[\"genero\"].value_counts()"
   ]
  },
  {
   "cell_type": "code",
   "execution_count": null,
   "metadata": {},
   "outputs": [],
   "source": [
    "df_limpo[\"etnia\"].value_counts()"
   ]
  },
  {
   "cell_type": "code",
   "execution_count": null,
   "metadata": {},
   "outputs": [],
   "source": [
    "df_limpo[['etnia', 'genero']].value_counts()"
   ]
  },
  {
   "cell_type": "code",
   "execution_count": null,
   "metadata": {},
   "outputs": [],
   "source": [
    "df_limpo[['etnia', 'genero','senioridade']].value_counts()"
   ]
  },
  {
   "cell_type": "code",
   "execution_count": null,
   "metadata": {},
   "outputs": [],
   "source": [
    "#Obs: tem gerente e Gerente\n",
    "df_limpo['senioridade'] = df_limpo['senioridade'].str.title()\n",
    "df['senioridade'] = df['senioridade'].str.title()"
   ]
  },
  {
   "cell_type": "code",
   "execution_count": null,
   "metadata": {},
   "outputs": [],
   "source": [
    "df_limpo.dtypes"
   ]
  },
  {
   "cell_type": "code",
   "execution_count": null,
   "metadata": {},
   "outputs": [],
   "source": [
    "df_limpo[['etnia', 'genero', 'senioridade']][(df_limpo['senioridade'] == 'Diretor') | (df_limpo['senioridade'] == 'Gerente')].value_counts()"
   ]
  },
  {
   "cell_type": "markdown",
   "metadata": {},
   "source": [
    "#### Análises : Cargos x Etnias"
   ]
  },
  {
   "cell_type": "code",
   "execution_count": null,
   "metadata": {},
   "outputs": [],
   "source": [
    "# Definir cargos de alto escalão\n",
    "cargos_alto_escalao = ['Diretor', 'Gerente']"
   ]
  },
  {
   "cell_type": "code",
   "execution_count": null,
   "metadata": {},
   "outputs": [],
   "source": [
    "# Filtrar pessoas não brancas fora de cargos de alto escalão\n",
    "nao_brancos_baixo_escalao = df[(df['etnia'] != 'Branca') & (~df['senioridade'].isin(cargos_alto_escalao))]\n",
    "contagem_nao_brancos_baixo_escalao = nao_brancos_baixo_escalao['senioridade'].value_counts()\n",
    "contagem_nao_brancos_baixo_escalao"
   ]
  },
  {
   "cell_type": "code",
   "execution_count": null,
   "metadata": {},
   "outputs": [],
   "source": [
    "# Filtrar pessoas não brancas em cargos de alto escalão\n",
    "nao_brancos_alto_escalao = df[(df['etnia'] != 'Branca') & (df['senioridade'].isin(cargos_alto_escalao))]\n",
    "contagem_nao_brancos_alto_escalao = nao_brancos_alto_escalao['senioridade'].value_counts()\n",
    "contagem_nao_brancos_alto_escalao"
   ]
  },
  {
   "cell_type": "markdown",
   "metadata": {},
   "source": [
    "#### Análises : Etnias x Tempo de Casa"
   ]
  },
  {
   "cell_type": "code",
   "execution_count": null,
   "metadata": {},
   "outputs": [],
   "source": [
    "df_limpo[['etnia', 'tempo_de_casa']].sort_values(by='tempo_de_casa')"
   ]
  },
  {
   "cell_type": "code",
   "execution_count": null,
   "metadata": {},
   "outputs": [],
   "source": [
    "df_limpo[['idade', 'tempo_de_casa']].sort_values(by='tempo_de_casa')"
   ]
  },
  {
   "cell_type": "markdown",
   "metadata": {},
   "source": [
    "#### Análises : Etnias na corporação"
   ]
  },
  {
   "cell_type": "code",
   "execution_count": null,
   "metadata": {},
   "outputs": [],
   "source": [
    "print(df_limpo['etnia'].value_counts())"
   ]
  },
  {
   "cell_type": "markdown",
   "metadata": {},
   "source": [
    "#### Análises : Valorização do colaborador por tempo de casa"
   ]
  },
  {
   "cell_type": "code",
   "execution_count": null,
   "metadata": {},
   "outputs": [],
   "source": [
    "#valorização (promoções por tempo de casa)\n",
    "\n",
    "valores_unicos_formacao = df['formacao'].unique()\n",
    "valores_unicos_formacao"
   ]
  },
  {
   "cell_type": "code",
   "execution_count": null,
   "metadata": {},
   "outputs": [],
   "source": [
    "#Valorização dos estudos por cargos\n",
    "\n",
    "contagem_formacao = df.groupby('senioridade')['formacao'].value_counts().unstack()\n",
    "contagem_formacao.fillna(0, inplace=True)\n",
    "display(contagem_formacao)"
   ]
  },
  {
   "cell_type": "code",
   "execution_count": null,
   "metadata": {},
   "outputs": [],
   "source": [
    "#Valorização dos estudos por cargos\n",
    "\n",
    "contagem_tempo = df.groupby('tempo_de_casa')['senioridade'].value_counts().unstack()\n",
    "contagem_tempo.fillna(0, inplace=True)\n",
    "display(contagem_tempo)"
   ]
  },
  {
   "cell_type": "code",
   "execution_count": null,
   "metadata": {},
   "outputs": [],
   "source": [
    "df.isnull().sum()"
   ]
  },
  {
   "cell_type": "markdown",
   "metadata": {},
   "source": [
    "#### Análises : Caso dos estagiários - Lei do estagiário 11788/2008 - Art 11"
   ]
  },
  {
   "cell_type": "code",
   "execution_count": null,
   "metadata": {},
   "outputs": [],
   "source": [
    "#Ponto de atenção: Estagiários com tempo maios de 2 anos. Pela Lei do estagiário isso não é permitido\n",
    "#Vamos delegar ao RH que faça as devidas trativas: Desligar ou admitir em cargos compativeis com a disponilibidade.\n",
    "estagiarios_irregulares = df[(df['senioridade'] == 'Estagiario') & (df['tempo_de_casa'] > 2)]\n",
    "\n",
    "df = df.drop(estagiarios_irregulares.index)\n",
    "df_menores_irregulares.to_csv('estagiarios_irregulares.csv', index=False)"
   ]
  },
  {
   "cell_type": "markdown",
   "metadata": {},
   "source": [
    "### Gráficos das análises:"
   ]
  },
  {
   "cell_type": "code",
   "execution_count": null,
   "metadata": {},
   "outputs": [],
   "source": [
    "plt.figure(figsize=(10, 8))\n",
    "ax = sns.countplot(data=df_limpo, x='etnia', order=df_limpo['etnia'].value_counts().index, palette='viridis')\n",
    "plt.title('Colaboradores por Etnia')\n",
    "plt.xlabel('Etnia')\n",
    "plt.ylabel('Contagem')\n",
    "plt.xticks(rotation=45, ha='right')\n",
    "\n",
    "# Adicionar os valores em porcentagem nas colunas do gráfico\n",
    "total = float(len(df_limpo))\n",
    "for p in ax.patches:\n",
    "    ax.annotate('{:.1%}'.format(p.get_height() / total),\n",
    "                (p.get_x() + p.get_width() / 2., p.get_height()),\n",
    "                ha='center', va='center',\n",
    "                xytext=(0, 9),\n",
    "                textcoords='offset points')\n",
    "\n",
    "plt.tight_layout()\n",
    "plt.show()"
   ]
  },
  {
   "cell_type": "code",
   "execution_count": null,
   "metadata": {},
   "outputs": [],
   "source": [
    "# Obter a lista de departamentos únicos no DataFrame\n",
    "departamentos = df_limpo['departamento'].unique()\n",
    "\n",
    "# Iterar sobre cada departamento e criar um gráfico separado\n",
    "for departamento in departamentos:\n",
    "    plt.figure(figsize=(10, 6))\n",
    "    filtro = df_limpo[df_limpo['departamento'] == departamento]  # Filtrar os dados pelo departamento atual\n",
    "    ax = sns.countplot(data=filtro, x='formacao',palette='viridis')\n",
    "    plt.title(f'Distribuição de Formação para o Departamento {departamento}')\n",
    "    plt.xlabel('Formação')\n",
    "    plt.ylabel('Contagem')\n",
    "    plt.xticks(rotation=45, ha='right')\n",
    "    plt.tight_layout()\n",
    "\n",
    "    # Adicionar os valores nas colunas do gráfico\n",
    "    for p in ax.patches:\n",
    "        ax.annotate(format(p.get_height(), '.0f'), \n",
    "                    (p.get_x() + p.get_width() / 2., p.get_height()), \n",
    "                    ha='center', va='center', \n",
    "                    xytext=(0, 9), \n",
    "                    textcoords='offset points')\n",
    "\n",
    "    plt.show()\n"
   ]
  },
  {
   "cell_type": "code",
   "execution_count": null,
   "metadata": {},
   "outputs": [],
   "source": [
    "plt.figure(figsize=(10, 6))\n",
    "sns.boxplot(data=df_limpo, x='etnia', y='idade', hue='departamento',palette='viridis')\n",
    "plt.title('Boxplot de Idade por Etnia e Departamento')\n",
    "plt.xlabel('Etnia')\n",
    "plt.ylabel('Idade (anos)')\n",
    "plt.legend(title='Departamento', loc='upper right')\n",
    "plt.xticks(rotation=45, ha='right')\n",
    "plt.tight_layout()\n",
    "plt.show()"
   ]
  },
  {
   "cell_type": "code",
   "execution_count": null,
   "metadata": {},
   "outputs": [],
   "source": [
    "plt.figure(figsize=(15, 8))\n",
    "sns.boxplot(data=df_limpo, x='etnia', y='senioridade', hue='departamento',palette='viridis')\n",
    "plt.title('Boxplot de Senioridade por Etnia e Departamento')\n",
    "plt.xlabel('Etnia')\n",
    "plt.ylabel('Senioridade')\n",
    "plt.legend(title='Departamento', loc='lower right')\n",
    "plt.xticks(rotation=45, ha='right')\n",
    "plt.tight_layout()\n",
    "plt.show()"
   ]
  },
  {
   "cell_type": "code",
   "execution_count": null,
   "metadata": {},
   "outputs": [],
   "source": [
    "plt.figure(figsize=(15, 8))\n",
    "sns.boxplot(data=df_limpo, x='tempo_de_casa', y='senioridade', hue='departamento',palette='viridis')\n",
    "plt.title('Boxplot de Senioridade por Tempo de casa e Cargos')\n",
    "plt.xlabel('Tempo de casa(Anos)')\n",
    "plt.ylabel('Senioridade')\n",
    "plt.legend(title='Departamento', loc='lower right')\n",
    "plt.xticks(rotation=45, ha='right')\n",
    "plt.tight_layout()\n",
    "plt.show()"
   ]
  },
  {
   "cell_type": "code",
   "execution_count": null,
   "metadata": {},
   "outputs": [],
   "source": [
    "plt.figure(figsize=(10, 8))\n",
    "ax = sns.countplot(data=df_limpo, x='departamento', hue='genero',palette='viridis')\n",
    "plt.title('Distribuição de Gênero por Departamento')\n",
    "plt.xlabel('Departamento')\n",
    "plt.ylabel('Contagem')\n",
    "plt.legend(title='Gênero', loc='lower right')\n",
    "plt.xticks(rotation=45, ha='right')\n",
    "\n",
    "# Adicionar os valores nas colunas do gráfico\n",
    "for p in ax.patches:\n",
    "    ax.annotate(format(p.get_height(), '.0f'), \n",
    "                (p.get_x() + p.get_width() / 2., p.get_height()), \n",
    "                ha='center', va='center', \n",
    "                xytext=(0, 9), \n",
    "                textcoords='offset points')\n",
    "\n",
    "plt.tight_layout()\n",
    "plt.show()"
   ]
  },
  {
   "cell_type": "code",
   "execution_count": null,
   "metadata": {},
   "outputs": [],
   "source": [
    "# Lista dos departamentos únicos\n",
    "departamentos = df_limpo['departamento'].unique()\n",
    "\n",
    "# Iterar sobre cada departamento e plotar o histograma\n",
    "for departamento in departamentos:\n",
    "    plt.figure(figsize=(10, 6))\n",
    "    filtro = df_limpo[df_limpo['departamento'] == departamento]  # Filtrar dados pelo departamento atual\n",
    "    sns.histplot(data=filtro, x='idade',hue='departamento',palette='viridis')\n",
    "    plt.title(f'Histograma de Idade para o Departamento {departamento}')\n",
    "    plt.xlabel('Idade (anos)')\n",
    "    plt.ylabel('Contagem')\n",
    "    plt.xticks(rotation=45, ha='right')\n",
    "    plt.tight_layout()\n",
    "\n",
    "    # Adicionar os valores nas colunas do gráfico\n",
    "    for p in ax.patches:\n",
    "        ax.annotate(format(p.get_height(), '.0f'), \n",
    "                    (p.get_x() + p.get_width() / 2., p.get_height()), \n",
    "                    ha='center', va='center', \n",
    "                    xytext=(0, 9), \n",
    "                    textcoords='offset points')\n",
    "\n",
    "    plt.show()"
   ]
  },
  {
   "cell_type": "code",
   "execution_count": null,
   "metadata": {},
   "outputs": [],
   "source": [
    "# Iterar sobre cada departamento e plotar o histograma\n",
    "for departamento in departamentos:\n",
    "    plt.figure(figsize=(10, 6))\n",
    "    filtro = df_limpo[df_limpo['departamento'] == departamento]  # Filtrar dados pelo departamento atual\n",
    "    sns.histplot(data=filtro, x='tempo_de_casa',hue='departamento',palette='viridis')\n",
    "    plt.title(f'Histograma de Tempo de casa (anos) para o Departamento {departamento}')\n",
    "    plt.xlabel('Tempo de casa (anos)')\n",
    "    plt.ylabel('Contagem')\n",
    "    plt.xticks(rotation=45, ha='right')\n",
    "    plt.tight_layout()\n",
    "\n",
    "    # Adicionar os valores nas colunas do gráfico\n",
    "    for p in ax.patches:\n",
    "        ax.annotate(format(p.get_height(), '.0f'), \n",
    "                    (p.get_x() + p.get_width() / 2., p.get_height()), \n",
    "                    ha='center', va='center', \n",
    "                    xytext=(0, 9), \n",
    "                    textcoords='offset points')\n",
    "\n",
    "    plt.show()"
   ]
  },
  {
   "cell_type": "code",
   "execution_count": null,
   "metadata": {},
   "outputs": [],
   "source": [
    "tempos_de_casa = df_limpo['tempo_de_casa'].unique()"
   ]
  },
  {
   "cell_type": "code",
   "execution_count": null,
   "metadata": {},
   "outputs": [],
   "source": [
    "for tempo_de_casa in tempos_de_casa:\n",
    "    plt.figure(figsize=(10, 6))\n",
    "    filtro = df_limpo[df_limpo['tempo_de_casa'] == tempo_de_casa]  # Filtrar dados pelo tempo_de_casa\n",
    "\n",
    "\n",
    "    if len(filtro) > 0:\n",
    "        sns.histplot(data=filtro, x='idade', hue='tempo_de_casa', palette='viridis')\n",
    "        plt.title(f'Histograma de Idade (anos) para o Tempo de casa {tempo_de_casa}')\n",
    "        plt.xlabel('Idade (anos)')\n",
    "        plt.ylabel('Contagem')\n",
    "        plt.xticks(rotation=45, ha='right')\n",
    "        plt.tight_layout()\n",
    "\n",
    "        # Adicionar os valores nas colunas do gráfico\n",
    "        for p in ax.patches:\n",
    "            ax.annotate(format(p.get_height(), '.0f'), \n",
    "                        (p.get_x() + p.get_width() / 2., p.get_height()), \n",
    "                        ha='center', va='center', \n",
    "                        xytext=(0, 9), \n",
    "                        textcoords='offset points')\n",
    "\n",
    "        plt.show()\n",
    "    else:\n",
    "        print(f'Sem dados para o tempo de casa {tempo_de_casa}.')"
   ]
  },
  {
   "cell_type": "code",
   "execution_count": null,
   "metadata": {},
   "outputs": [],
   "source": [
    "genero_counts = df_limpo['genero'].value_counts()"
   ]
  },
  {
   "cell_type": "code",
   "execution_count": null,
   "metadata": {},
   "outputs": [],
   "source": [
    "plt.figure(figsize=(7, 5))\n",
    "genero_counts.plot(kind='bar', cmap='viridis')\n",
    "plt.title('Distribuição Demográfica por Gênero')\n",
    "plt.xlabel('Gênero')\n",
    "plt.ylabel('Número de Colaboradores')\n",
    "plt.xticks(rotation=0)\n",
    "plt.show()"
   ]
  },
  {
   "cell_type": "code",
   "execution_count": null,
   "metadata": {},
   "outputs": [],
   "source": [
    "etnia_counts = df_limpo['etnia'].value_counts()"
   ]
  },
  {
   "cell_type": "code",
   "execution_count": null,
   "metadata": {},
   "outputs": [],
   "source": [
    "plt.figure(figsize=(7, 5))\n",
    "etnia_counts.plot(kind='bar', cmap='viridis')\n",
    "plt.title('Distribuição Demográfica por Etnia')\n",
    "plt.xlabel('Etnia')\n",
    "plt.ylabel('Número de Colaboradores')\n",
    "plt.xticks(rotation=45)\n",
    "plt.show()"
   ]
  },
  {
   "cell_type": "code",
   "execution_count": null,
   "metadata": {},
   "outputs": [],
   "source": [
    "etnia_genero_counts = df_limpo.groupby(['etnia', 'genero']).size().unstack(fill_value=0)"
   ]
  },
  {
   "cell_type": "code",
   "execution_count": null,
   "metadata": {},
   "outputs": [],
   "source": [
    "plt.figure(figsize=(7, 5))\n",
    "etnia_genero_counts.plot(kind='bar', cmap='viridis')\n",
    "plt.title('Distribuição de Colaboradores por Etnia e Gênero', fontsize=14)\n",
    "plt.xlabel('Etnia', fontsize=12)\n",
    "plt.ylabel('Número de Colaboradores', fontsize=12)\n",
    "plt.xticks(rotation=45)\n",
    "plt.legend(title='Gênero', fontsize=10)\n",
    "plt.tight_layout()\n",
    "plt.show()"
   ]
  },
  {
   "cell_type": "code",
   "execution_count": null,
   "metadata": {},
   "outputs": [],
   "source": [
    "filtro_cargos = (df['senioridade'] == 'Diretor') | (df['senioridade'] == 'Gerente')\n",
    "dados_filtrados = df[filtro_cargos]"
   ]
  },
  {
   "cell_type": "code",
   "execution_count": null,
   "metadata": {},
   "outputs": [],
   "source": [
    "etnia_sen_counts = dados_filtrados.groupby(['etnia', 'senioridade']).size().unstack(fill_value=0)"
   ]
  },
  {
   "cell_type": "code",
   "execution_count": null,
   "metadata": {},
   "outputs": [],
   "source": [
    "for senioridade in etnia_sen_counts.columns:\n",
    "    plt.figure(figsize=(8, 6))\n",
    "    etnia_sen_counts[senioridade].plot(kind='pie', autopct='%1.1f%%', cmap='viridis')\n",
    "    plt.title(f'Distribuição de Colaboradores por Etnia ({senioridade})', fontsize=14)\n",
    "    plt.ylabel('')\n",
    "    plt.legend(title='Senioridade', fontsize=10)\n",
    "    plt.tight_layout()\n",
    "    plt.show()"
   ]
  },
  {
   "cell_type": "code",
   "execution_count": null,
   "metadata": {},
   "outputs": [],
   "source": [
    "plt.figure(figsize=(7, 5))\n",
    "df_limpo['idade'].plot(kind='hist', bins=20, cmap='viridis', edgecolor='black')\n",
    "plt.title('Distribuição de Idade')\n",
    "plt.xlabel('Idade')\n",
    "plt.ylabel('Frequência')"
   ]
  },
  {
   "cell_type": "code",
   "execution_count": null,
   "metadata": {},
   "outputs": [],
   "source": [
    "plt.figure(figsize=(7, 7))\n",
    "df_limpo['estado'].value_counts().plot(kind='bar', cmap='viridis')\n",
    "plt.title('Distribuição de Estado')\n",
    "plt.xlabel('Estado ')\n",
    "plt.ylabel('Contagem')\n",
    "\n",
    "plt.tight_layout()\n",
    "plt.show()"
   ]
  },
  {
   "cell_type": "code",
   "execution_count": null,
   "metadata": {},
   "outputs": [],
   "source": [
    "df['estado'].value_counts"
   ]
  },
  {
   "cell_type": "code",
   "execution_count": null,
   "metadata": {},
   "outputs": [],
   "source": [
    "cargos_lideranca = df_limpo[(df_limpo['senioridade'] == 'Diretor') | (df_limpo['senioridade'] == 'Gerente')]\n",
    "\n",
    "gerentes = cargos_lideranca[cargos_lideranca['senioridade'] == 'Gerente']\n",
    "diretores = cargos_lideranca[cargos_lideranca['senioridade'] == 'Diretor']\n",
    "\n",
    "genero_gerentes = gerentes['genero'].value_counts(normalize=True)\n",
    "genero_diretores = diretores['genero'].value_counts(normalize=True)\n",
    "plt.figure(figsize=(12, 6))\n",
    "plt.subplot(1, 2, 1)\n",
    "genero_gerentes.plot(kind='pie', autopct='%1.1f%%', cmap='viridis')\n",
    "plt.title('Distribuição por Gênero entre Gerentes')\n",
    "plt.ylabel('')\n",
    "\n",
    "plt.subplot(1, 2, 2)\n",
    "genero_diretores.plot(kind='pie', autopct='%1.1f%%', cmap='viridis')\n",
    "plt.title('Distribuição por Gênero entre Diretores')\n",
    "plt.ylabel('')\n",
    "\n",
    "plt.tight_layout()\n",
    "plt.show()"
   ]
  },
  {
   "cell_type": "code",
   "execution_count": null,
   "metadata": {},
   "outputs": [],
   "source": [
    "df_knn = df_limpo.dropna(subset=['idade', 'tempo_de_casa'])"
   ]
  },
  {
   "cell_type": "code",
   "execution_count": null,
   "metadata": {},
   "outputs": [],
   "source": [
    "# Normalização dos dados\n",
    "scaler = StandardScaler()\n",
    "df_scaled = scaler.fit_transform(df_knn[['idade', 'tempo_de_casa']])"
   ]
  },
  {
   "cell_type": "code",
   "execution_count": null,
   "metadata": {},
   "outputs": [],
   "source": [
    "# Aplicação do K-Means\n",
    "kmeans = KMeans(n_clusters=3, random_state=42)\n",
    "df_knn['cluster'] = kmeans.fit_predict(df_scaled)"
   ]
  },
  {
   "cell_type": "code",
   "execution_count": null,
   "metadata": {},
   "outputs": [],
   "source": [
    "# Plotagem dos clusters\n",
    "plt.figure(figsize=(10, 6))\n",
    "plt.scatter(df_scaled[:, 0], df_scaled[:, 1], c=df_knn['cluster'], cmap='viridis', marker='o')\n",
    "plt.title('Visualização dos Clusters')\n",
    "plt.xlabel('Idade (normalizada)')\n",
    "plt.ylabel('Tempo de Casa (normalizado)')\n",
    "plt.colorbar(label='Cluster')\n",
    "plt.show()"
   ]
  },
  {
   "cell_type": "code",
   "execution_count": null,
   "metadata": {},
   "outputs": [],
   "source": [
    "# Normalização dos dados\n",
    "scaler = StandardScaler()\n",
    "df_knn_scaled = scaler.fit_transform(df_knn[['idade', 'tempo_de_casa']])"
   ]
  },
  {
   "cell_type": "code",
   "execution_count": null,
   "metadata": {},
   "outputs": [],
   "source": [
    "# Aplicação do K-Means\n",
    "kmeans = KMeans(n_clusters=3, random_state=42)\n",
    "df_knn['cluster'] = kmeans.fit_predict(df_knn_scaled)\n",
    "\n",
    "# Invertendo a normalização para os valores originais\n",
    "df_knn['idade_original'] = scaler.inverse_transform(df_knn_scaled)[:, 0]\n",
    "df_knn['tempo_de_casa_original'] = scaler.inverse_transform(df_knn_scaled)[:, 1]\n",
    "\n",
    "# Plotagem dos clusters com valores reais\n",
    "plt.figure(figsize=(10, 6))\n",
    "plt.scatter(df_knn['idade_original'], df_knn['tempo_de_casa_original'], c=df_knn['cluster'], cmap='viridis', marker='o')\n",
    "plt.title('Visualização dos Clusters com Valores Reais')\n",
    "plt.xlabel('Idade')\n",
    "plt.ylabel('Tempo de Casa')\n",
    "plt.colorbar(label='Cluster')\n",
    "plt.show()"
   ]
  },
  {
   "cell_type": "code",
   "execution_count": null,
   "metadata": {},
   "outputs": [],
   "source": [
    "#mudar para mapa\n",
    "\n",
    "counts = df.groupby(['etnia', 'formacao']).size().unstack(fill_value=0)\n",
    "\n",
    "\n",
    "plt.figure(figsize=(10, 8))\n",
    "sns.heatmap(counts, cmap='viridis', annot=True, fmt='d')\n",
    "plt.xlabel('Formação', fontsize=12)\n",
    "plt.ylabel('Etnia', fontsize=12)\n",
    "plt.title('Relação entre Etnia e Formação', fontsize=14)\n",
    "plt.xticks(rotation=45)\n",
    "plt.yticks(rotation=0)\n",
    "plt.tight_layout()\n",
    "plt.show()"
   ]
  },
  {
   "cell_type": "code",
   "execution_count": null,
   "metadata": {},
   "outputs": [],
   "source": [
    "senioridades_desejadas = ['Analista Pleno', 'Analista Junior', 'Analista Senior', 'Estagiario',]\n",
    "df_limpo_filtrado = df_limpo[df_limpo['senioridade'].isin(senioridades_desejadas)]\n",
    "\n",
    "dados_agrupados = df_limpo_filtrado.groupby(['senioridade', 'formacao']).size().unstack(fill_value=0)\n",
    "\n",
    "dados_agrupados.plot(kind='bar', stacked=False, figsize=(10, 8), cmap='viridis')\n",
    "plt.title('Número de Colaboradores por Senioridade e Formação')\n",
    "plt.xlabel('Senioridade')\n",
    "plt.ylabel('Número de Colaboradores')\n",
    "plt.xticks(rotation=45, ha='right')\n",
    "plt.legend(title='Formação')\n",
    "plt.show()"
   ]
  },
  {
   "cell_type": "code",
   "execution_count": null,
   "metadata": {},
   "outputs": [],
   "source": [
    "coordenadas_estados = {\n",
    "    'AC': (-9.97499, -67.8243),\n",
    "    'AL': (-9.66599, -35.735),\n",
    "    'AP': (0.0390458, -51.0664),\n",
    "    'AM': (-3.11903, -60.0212),\n",
    "    'BA': (-12.9714, -38.5014),\n",
    "    'CE': (-3.71722, -38.5433),\n",
    "    'DF' : (-15.7795, -47.9297),\n",
    "    'ES': (-20.3155, -40.3128),\n",
    "    'GO': (-16.6864, -49.2643),\n",
    "    'MA': (-2.53911, -44.2829),\n",
    "    'MT': (-15.601, -56.0974),\n",
    "    'MS': (-20.4428, -54.6464),\n",
    "    'MG': (-19.9183, -43.9346),\n",
    "    'PA': (-1.4554, -48.4898),\n",
    "    'PB': (-7.11949, -34.8451),\n",
    "    'PR': (-25.4278, -49.2731),\n",
    "    'PE': (-8.04756, -34.877),\n",
    "    'PI': (-5.08921, -42.8016),\n",
    "    'RJ': (-22.9068, -43.1729),\n",
    "    'RN': (-5.79448, -35.211),\n",
    "    'RS': (-30.0346, -51.2177),\n",
    "    'RO': (-8.76116, -63.9004),\n",
    "    'RR': (2.82384, -60.6753),\n",
    "    'SC': (-27.5954, -48.548),\n",
    "    'SP': (-23.5505, -46.6333),\n",
    "    'SE': (-10.9472, -37.0731),\n",
    "    'TO': (-10.1689, -48.3317)\n",
    "}\n",
    "\n",
    "def adicionar_coordenadas(df_limpo, coordenadas_estados):\n",
    "    df_limpo['latitude'] = df_limpo['estado'].map(lambda x: coordenadas_estados[x][0])\n",
    "    df_limpo['longitude'] = df_limpo['estado'].map(lambda x: coordenadas_estados[x][1])\n",
    "    return df_limpo\n",
    "\n",
    "\n",
    "df_limpo = adicionar_coordenadas(df_limpo, coordenadas_estados)"
   ]
  },
  {
   "cell_type": "code",
   "execution_count": null,
   "metadata": {},
   "outputs": [],
   "source": [
    "df_limpo"
   ]
  },
  {
   "cell_type": "code",
   "execution_count": null,
   "metadata": {},
   "outputs": [],
   "source": [
    "# Verificar se a coluna 'Unnamed:' está presente no DataFrame\n",
    "if 'Unnamed:' in df.columns:\n",
    "    df = df.drop('Unnamed:', axis=1)"
   ]
  },
  {
   "cell_type": "code",
   "execution_count": null,
   "metadata": {},
   "outputs": [],
   "source": [
    "df_limpo"
   ]
  },
  {
   "cell_type": "code",
   "execution_count": null,
   "metadata": {},
   "outputs": [],
   "source": [
    "df_limpo.dtypes"
   ]
  },
  {
   "cell_type": "code",
   "execution_count": null,
   "metadata": {},
   "outputs": [],
   "source": [
    "app = dash.Dash(__name__)\n",
    "\n",
    "\n",
    "app.layout = html.Div([\n",
    "    dcc.Dropdown(\n",
    "        id='dropdown_formacao',\n",
    "        options=[{'label': formacao, 'value': formacao} for formacao in df_limpo['formacao'].unique()],\n",
    "        value=df_limpo['formacao'].unique().tolist(),\n",
    "        multi=True,\n",
    "        placeholder='Selecione a Formação'\n",
    "    ),\n",
    "    dcc.Dropdown(\n",
    "        id='dropdown_etnia',\n",
    "        options=[{'label': etnia, 'value': etnia} for etnia in df_limpo['etnia'].unique()],\n",
    "        value=df_limpo['etnia'].unique().tolist(),\n",
    "        multi=True,\n",
    "        placeholder='Selecione a Etnia'\n",
    "    ),\n",
    "    html.Div(id='map_container')\n",
    "])\n",
    "\n",
    "@app.callback(\n",
    "    Output('map_container', 'children'),\n",
    "    [Input('dropdown_formacao', 'value'),\n",
    "     Input('dropdown_etnia', 'value')]\n",
    ")\n",
    "def update_map(selected_formacoes, selected_etnias):\n",
    "\n",
    "    filtered_df_limpo = df_limpo[df_limpo['formacao'].isin(selected_formacoes) & df_limpo['etnia'].isin(selected_etnias)]\n",
    "    \n",
    "  \n",
    "    contagem_combinacoes = filtered_df_limpo.groupby(['formacao', 'etnia']).size().reset_index(name='contagem')\n",
    "    \n",
    "\n",
    "    contagem_combinacoes = contagem_combinacoes.merge(filtered_df_limpo[['formacao', 'etnia', 'latitude', 'longitude']].drop_duplicates(), on=['formacao', 'etnia'])\n",
    "    \n",
    "\n",
    "    mapa = folium.Map(location=[-14.235004, -51.925282], zoom_start=4)\n",
    "    \n",
    "  \n",
    "    for _, row in contagem_combinacoes.iterrows():\n",
    "        coordenadas = [row['latitude'], row['longitude']]\n",
    "        peso = row['contagem']\n",
    "        HeatMap([coordenadas + [peso]], radius=15).add_to(mapa)\n",
    "    \n",
    "\n",
    "    map_html = mapa._repr_html_()\n",
    "    \n",
    "    return html.Iframe(srcDoc=map_html, width='100%', height='600')\n",
    "\n",
    "\n",
    "if __name__ == '__main__':\n",
    "    app.run_server(debug=True)"
   ]
  }
 ],
 "metadata": {
  "kernelspec": {
   "display_name": "Python 3",
   "language": "python",
   "name": "python3"
  },
  "language_info": {
   "codemirror_mode": {
    "name": "ipython",
    "version": 3
   },
   "file_extension": ".py",
   "mimetype": "text/x-python",
   "name": "python",
   "nbconvert_exporter": "python",
   "pygments_lexer": "ipython3",
   "version": "3.11.9"
  }
 },
 "nbformat": 4,
 "nbformat_minor": 2
}
